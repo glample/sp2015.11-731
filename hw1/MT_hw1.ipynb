{
 "metadata": {
  "name": ""
 },
 "nbformat": 3,
 "nbformat_minor": 0,
 "worksheets": [
  {
   "cells": [
    {
     "cell_type": "code",
     "collapsed": false,
     "input": [
      "%cd \"/home/guillaume/Documents/CMU/cours/MT/git/sp2015.11-731/hw1\"\n",
      "import optparse\n",
      "import sys\n",
      "from collections import defaultdict\n",
      "import numpy as np\n",
      "import cPickle"
     ],
     "language": "python",
     "metadata": {},
     "outputs": [
      {
       "output_type": "stream",
       "stream": "stdout",
       "text": [
        "/home/guillaume/Documents/CMU/cours/MT/git/sp2015.11-731/hw1\n"
       ]
      }
     ],
     "prompt_number": 129
    },
    {
     "cell_type": "code",
     "collapsed": false,
     "input": [
      "rng = np.random.RandomState(1234)"
     ],
     "language": "python",
     "metadata": {},
     "outputs": [],
     "prompt_number": 130
    },
    {
     "cell_type": "code",
     "collapsed": false,
     "input": [
      "bitext = [[sentence.strip().split() for sentence in pair.split(' ||| ')] for pair in open(\"data/dev-test-train.de-en\")]"
     ],
     "language": "python",
     "metadata": {},
     "outputs": [],
     "prompt_number": 142
    },
    {
     "cell_type": "code",
     "collapsed": false,
     "input": [
      "e_voc = set()\n",
      "f_voc = set()\n",
      "for f, e in bitext:\n",
      "  for w_f in f:\n",
      "    f_voc.add(w_f)\n",
      "  for w_e in e:\n",
      "    e_voc.add(w_e)\n",
      "len_f_voc =  len(f_voc)\n",
      "len_e_voc =  len(e_voc)\n",
      "print \"%i words in f\" % len_f_voc\n",
      "print \"%i words in e\" % len_e_voc\n",
      "f_word_to_index = {}\n",
      "f_index_to_word = []\n",
      "for i, w_f in enumerate(f_voc):\n",
      "  f_word_to_index[w_f] = i\n",
      "  f_index_to_word.append(w_f)\n",
      "e_word_to_index = {}\n",
      "e_index_to_word = []\n",
      "for i, w_e in enumerate(e_voc):\n",
      "  e_word_to_index[w_e] = i\n",
      "  e_index_to_word.append(w_e)"
     ],
     "language": "python",
     "metadata": {},
     "outputs": [
      {
       "output_type": "stream",
       "stream": "stdout",
       "text": [
        "84951 words in f\n",
        "38319 words in e\n"
       ]
      }
     ],
     "prompt_number": 143
    },
    {
     "cell_type": "code",
     "collapsed": false,
     "input": [
      "for i, (f, e) in enumerate(bitext):\n",
      "  bitext[i] = [[f_word_to_index[w_f] for w_f in f], [e_word_to_index[w_e] for w_e in e]]"
     ],
     "language": "python",
     "metadata": {},
     "outputs": [],
     "prompt_number": 144
    },
    {
     "cell_type": "code",
     "collapsed": false,
     "input": [
      "f_count = np.zeros(len_f_voc)\n",
      "e_count = np.zeros(len_e_voc)\n",
      "fe_count = defaultdict(int)\n",
      "\n",
      "for n, (f, e) in enumerate(bitext):\n",
      "  for w_f in f:\n",
      "    f_count[w_f] += 1\n",
      "    dic = fe_count.setdefault(w_f, {})\n",
      "    for e_j in e:\n",
      "      if e_j not in dic:\n",
      "      \tdic[e_j] = 0\n",
      "      dic[e_j] += 1\n",
      "  for e_j in e:\n",
      "    e_count[e_j] += 1\n",
      "  if n % 500 == 0:\n",
      "    sys.stderr.write(\".\")"
     ],
     "language": "python",
     "metadata": {},
     "outputs": [
      {
       "output_type": "stream",
       "stream": "stderr",
       "text": [
        ".."
       ]
      },
      {
       "output_type": "stream",
       "stream": "stderr",
       "text": [
        ".."
       ]
      },
      {
       "output_type": "stream",
       "stream": "stderr",
       "text": [
        ".."
       ]
      },
      {
       "output_type": "stream",
       "stream": "stderr",
       "text": [
        ".."
       ]
      },
      {
       "output_type": "stream",
       "stream": "stderr",
       "text": [
        ".."
       ]
      },
      {
       "output_type": "stream",
       "stream": "stderr",
       "text": [
        ".."
       ]
      },
      {
       "output_type": "stream",
       "stream": "stderr",
       "text": [
        ".."
       ]
      },
      {
       "output_type": "stream",
       "stream": "stderr",
       "text": [
        ".."
       ]
      },
      {
       "output_type": "stream",
       "stream": "stderr",
       "text": [
        ".."
       ]
      },
      {
       "output_type": "stream",
       "stream": "stderr",
       "text": [
        ".."
       ]
      },
      {
       "output_type": "stream",
       "stream": "stderr",
       "text": [
        ".."
       ]
      },
      {
       "output_type": "stream",
       "stream": "stderr",
       "text": [
        ".."
       ]
      },
      {
       "output_type": "stream",
       "stream": "stderr",
       "text": [
        ".."
       ]
      },
      {
       "output_type": "stream",
       "stream": "stderr",
       "text": [
        ".."
       ]
      },
      {
       "output_type": "stream",
       "stream": "stderr",
       "text": [
        ".."
       ]
      },
      {
       "output_type": "stream",
       "stream": "stderr",
       "text": [
        ".."
       ]
      },
      {
       "output_type": "stream",
       "stream": "stderr",
       "text": [
        ".."
       ]
      },
      {
       "output_type": "stream",
       "stream": "stderr",
       "text": [
        ".."
       ]
      },
      {
       "output_type": "stream",
       "stream": "stderr",
       "text": [
        ".."
       ]
      },
      {
       "output_type": "stream",
       "stream": "stderr",
       "text": [
        ".."
       ]
      },
      {
       "output_type": "stream",
       "stream": "stderr",
       "text": [
        ".."
       ]
      },
      {
       "output_type": "stream",
       "stream": "stderr",
       "text": [
        ".."
       ]
      },
      {
       "output_type": "stream",
       "stream": "stderr",
       "text": [
        ".."
       ]
      },
      {
       "output_type": "stream",
       "stream": "stderr",
       "text": [
        ".."
       ]
      },
      {
       "output_type": "stream",
       "stream": "stderr",
       "text": [
        ".."
       ]
      },
      {
       "output_type": "stream",
       "stream": "stderr",
       "text": [
        ".."
       ]
      },
      {
       "output_type": "stream",
       "stream": "stderr",
       "text": [
        ".."
       ]
      },
      {
       "output_type": "stream",
       "stream": "stderr",
       "text": [
        ".."
       ]
      },
      {
       "output_type": "stream",
       "stream": "stderr",
       "text": [
        ".."
       ]
      },
      {
       "output_type": "stream",
       "stream": "stderr",
       "text": [
        ".."
       ]
      },
      {
       "output_type": "stream",
       "stream": "stderr",
       "text": [
        ".."
       ]
      },
      {
       "output_type": "stream",
       "stream": "stderr",
       "text": [
        ".."
       ]
      },
      {
       "output_type": "stream",
       "stream": "stderr",
       "text": [
        ".."
       ]
      },
      {
       "output_type": "stream",
       "stream": "stderr",
       "text": [
        ".."
       ]
      },
      {
       "output_type": "stream",
       "stream": "stderr",
       "text": [
        ".."
       ]
      },
      {
       "output_type": "stream",
       "stream": "stderr",
       "text": [
        ".."
       ]
      },
      {
       "output_type": "stream",
       "stream": "stderr",
       "text": [
        ".."
       ]
      },
      {
       "output_type": "stream",
       "stream": "stderr",
       "text": [
        ".."
       ]
      },
      {
       "output_type": "stream",
       "stream": "stderr",
       "text": [
        ".."
       ]
      },
      {
       "output_type": "stream",
       "stream": "stderr",
       "text": [
        ".."
       ]
      },
      {
       "output_type": "stream",
       "stream": "stderr",
       "text": [
        ".."
       ]
      },
      {
       "output_type": "stream",
       "stream": "stderr",
       "text": [
        ".."
       ]
      },
      {
       "output_type": "stream",
       "stream": "stderr",
       "text": [
        ".."
       ]
      },
      {
       "output_type": "stream",
       "stream": "stderr",
       "text": [
        ".."
       ]
      },
      {
       "output_type": "stream",
       "stream": "stderr",
       "text": [
        ".."
       ]
      },
      {
       "output_type": "stream",
       "stream": "stderr",
       "text": [
        ".."
       ]
      },
      {
       "output_type": "stream",
       "stream": "stderr",
       "text": [
        ".."
       ]
      },
      {
       "output_type": "stream",
       "stream": "stderr",
       "text": [
        ".."
       ]
      },
      {
       "output_type": "stream",
       "stream": "stderr",
       "text": [
        ".."
       ]
      },
      {
       "output_type": "stream",
       "stream": "stderr",
       "text": [
        ".."
       ]
      },
      {
       "output_type": "stream",
       "stream": "stderr",
       "text": [
        ".."
       ]
      },
      {
       "output_type": "stream",
       "stream": "stderr",
       "text": [
        ".."
       ]
      },
      {
       "output_type": "stream",
       "stream": "stderr",
       "text": [
        ".."
       ]
      },
      {
       "output_type": "stream",
       "stream": "stderr",
       "text": [
        ".."
       ]
      },
      {
       "output_type": "stream",
       "stream": "stderr",
       "text": [
        ".."
       ]
      },
      {
       "output_type": "stream",
       "stream": "stderr",
       "text": [
        ".."
       ]
      },
      {
       "output_type": "stream",
       "stream": "stderr",
       "text": [
        ".."
       ]
      },
      {
       "output_type": "stream",
       "stream": "stderr",
       "text": [
        ".."
       ]
      },
      {
       "output_type": "stream",
       "stream": "stderr",
       "text": [
        ".."
       ]
      },
      {
       "output_type": "stream",
       "stream": "stderr",
       "text": [
        ".."
       ]
      },
      {
       "output_type": "stream",
       "stream": "stderr",
       "text": [
        ".."
       ]
      },
      {
       "output_type": "stream",
       "stream": "stderr",
       "text": [
        ".."
       ]
      },
      {
       "output_type": "stream",
       "stream": "stderr",
       "text": [
        ".."
       ]
      },
      {
       "output_type": "stream",
       "stream": "stderr",
       "text": [
        ".."
       ]
      },
      {
       "output_type": "stream",
       "stream": "stderr",
       "text": [
        ".."
       ]
      },
      {
       "output_type": "stream",
       "stream": "stderr",
       "text": [
        ".."
       ]
      },
      {
       "output_type": "stream",
       "stream": "stderr",
       "text": [
        ".."
       ]
      },
      {
       "output_type": "stream",
       "stream": "stderr",
       "text": [
        ".."
       ]
      },
      {
       "output_type": "stream",
       "stream": "stderr",
       "text": [
        ".."
       ]
      },
      {
       "output_type": "stream",
       "stream": "stderr",
       "text": [
        ".."
       ]
      },
      {
       "output_type": "stream",
       "stream": "stderr",
       "text": [
        ".."
       ]
      },
      {
       "output_type": "stream",
       "stream": "stderr",
       "text": [
        ".."
       ]
      },
      {
       "output_type": "stream",
       "stream": "stderr",
       "text": [
        ".."
       ]
      },
      {
       "output_type": "stream",
       "stream": "stderr",
       "text": [
        ".."
       ]
      },
      {
       "output_type": "stream",
       "stream": "stderr",
       "text": [
        ".."
       ]
      },
      {
       "output_type": "stream",
       "stream": "stderr",
       "text": [
        ".."
       ]
      },
      {
       "output_type": "stream",
       "stream": "stderr",
       "text": [
        ".."
       ]
      },
      {
       "output_type": "stream",
       "stream": "stderr",
       "text": [
        ".."
       ]
      },
      {
       "output_type": "stream",
       "stream": "stderr",
       "text": [
        ".."
       ]
      },
      {
       "output_type": "stream",
       "stream": "stderr",
       "text": [
        ".."
       ]
      },
      {
       "output_type": "stream",
       "stream": "stderr",
       "text": [
        ".."
       ]
      },
      {
       "output_type": "stream",
       "stream": "stderr",
       "text": [
        ".."
       ]
      },
      {
       "output_type": "stream",
       "stream": "stderr",
       "text": [
        ".."
       ]
      },
      {
       "output_type": "stream",
       "stream": "stderr",
       "text": [
        ".."
       ]
      },
      {
       "output_type": "stream",
       "stream": "stderr",
       "text": [
        ".."
       ]
      },
      {
       "output_type": "stream",
       "stream": "stderr",
       "text": [
        ".."
       ]
      },
      {
       "output_type": "stream",
       "stream": "stderr",
       "text": [
        ".."
       ]
      },
      {
       "output_type": "stream",
       "stream": "stderr",
       "text": [
        ".."
       ]
      },
      {
       "output_type": "stream",
       "stream": "stderr",
       "text": [
        ".."
       ]
      },
      {
       "output_type": "stream",
       "stream": "stderr",
       "text": [
        ".."
       ]
      },
      {
       "output_type": "stream",
       "stream": "stderr",
       "text": [
        ".."
       ]
      },
      {
       "output_type": "stream",
       "stream": "stderr",
       "text": [
        ".."
       ]
      },
      {
       "output_type": "stream",
       "stream": "stderr",
       "text": [
        ".."
       ]
      },
      {
       "output_type": "stream",
       "stream": "stderr",
       "text": [
        ".."
       ]
      },
      {
       "output_type": "stream",
       "stream": "stderr",
       "text": [
        ".."
       ]
      },
      {
       "output_type": "stream",
       "stream": "stderr",
       "text": [
        ".."
       ]
      },
      {
       "output_type": "stream",
       "stream": "stderr",
       "text": [
        ".."
       ]
      },
      {
       "output_type": "stream",
       "stream": "stderr",
       "text": [
        ".."
       ]
      },
      {
       "output_type": "stream",
       "stream": "stderr",
       "text": [
        ".."
       ]
      },
      {
       "output_type": "stream",
       "stream": "stderr",
       "text": [
        ".."
       ]
      }
     ],
     "prompt_number": 140
    },
    {
     "cell_type": "code",
     "collapsed": false,
     "input": [
      "# Initialization\n",
      "probs = {}\n",
      "for w_f in f_voc:\n",
      "\ttemp = rng.rand(len(fe_count[w_f]))\n",
      "\ttemp /= np.sum(temp)\n",
      "\tprobs[w_f] = {w_e:p_e for w_e, p_e in zip(fe_count[w_f].keys(), temp)}"
     ],
     "language": "python",
     "metadata": {},
     "outputs": [],
     "prompt_number": 39
    },
    {
     "cell_type": "code",
     "collapsed": false,
     "input": [
      "for k in xrange(5):\n",
      "    sys.stderr.write(\"\\nStep %i\" % k)\n",
      "    count_f_e = [{w_e:0 for w_e in v.keys()} for k, v in fe_count.items()]\n",
      "    total_f = np.zeros(len_f_voc)\n",
      "    for n, (f, e) in enumerate(bitext):\n",
      "        if n % 500 == 0:\n",
      "            sys.stderr.write(\".\")\n",
      "        s_total = np.zeros(len_e_voc)\n",
      "        for w_e in e:\n",
      "            for w_f in f:\n",
      "                s_total[w_e] += probs[w_f][w_e]\n",
      "        for w_e in e:\n",
      "            for w_f in f:\n",
      "                count_f_e[w_f][w_e] += probs[w_f][w_e] / s_total[w_e]\n",
      "                total_f[w_f] += probs[w_f][w_e] / s_total[w_e]\n",
      "    for n, (f, e) in enumerate(bitext):\n",
      "        for w_f in f:\n",
      "            for w_e in e:\n",
      "                probs[w_f][w_e] = count_f_e[w_f][w_e] / total_f[w_f]"
     ],
     "language": "python",
     "metadata": {},
     "outputs": [
      {
       "output_type": "stream",
       "stream": "stderr",
       "text": [
        "\n",
        "Step 0."
       ]
      },
      {
       "output_type": "stream",
       "stream": "stderr",
       "text": [
        ".."
       ]
      },
      {
       "output_type": "stream",
       "stream": "stderr",
       "text": [
        ".."
       ]
      },
      {
       "output_type": "stream",
       "stream": "stderr",
       "text": [
        ".."
       ]
      },
      {
       "output_type": "stream",
       "stream": "stderr",
       "text": [
        ".."
       ]
      },
      {
       "output_type": "stream",
       "stream": "stderr",
       "text": [
        ".."
       ]
      },
      {
       "output_type": "stream",
       "stream": "stderr",
       "text": [
        ".."
       ]
      },
      {
       "output_type": "stream",
       "stream": "stderr",
       "text": [
        ".."
       ]
      },
      {
       "output_type": "stream",
       "stream": "stderr",
       "text": [
        ".."
       ]
      },
      {
       "output_type": "stream",
       "stream": "stderr",
       "text": [
        ".."
       ]
      },
      {
       "output_type": "stream",
       "stream": "stderr",
       "text": [
        ".."
       ]
      },
      {
       "output_type": "stream",
       "stream": "stderr",
       "text": [
        ".."
       ]
      },
      {
       "output_type": "stream",
       "stream": "stderr",
       "text": [
        ".."
       ]
      },
      {
       "output_type": "stream",
       "stream": "stderr",
       "text": [
        ".."
       ]
      },
      {
       "output_type": "stream",
       "stream": "stderr",
       "text": [
        ".."
       ]
      },
      {
       "output_type": "stream",
       "stream": "stderr",
       "text": [
        ".."
       ]
      },
      {
       "output_type": "stream",
       "stream": "stderr",
       "text": [
        ".."
       ]
      },
      {
       "output_type": "stream",
       "stream": "stderr",
       "text": [
        ".."
       ]
      },
      {
       "output_type": "stream",
       "stream": "stderr",
       "text": [
        ".."
       ]
      },
      {
       "output_type": "stream",
       "stream": "stderr",
       "text": [
        ".."
       ]
      },
      {
       "output_type": "stream",
       "stream": "stderr",
       "text": [
        ".."
       ]
      },
      {
       "output_type": "stream",
       "stream": "stderr",
       "text": [
        ".."
       ]
      },
      {
       "output_type": "stream",
       "stream": "stderr",
       "text": [
        ".."
       ]
      },
      {
       "output_type": "stream",
       "stream": "stderr",
       "text": [
        ".."
       ]
      },
      {
       "output_type": "stream",
       "stream": "stderr",
       "text": [
        ".."
       ]
      },
      {
       "output_type": "stream",
       "stream": "stderr",
       "text": [
        ".."
       ]
      },
      {
       "output_type": "stream",
       "stream": "stderr",
       "text": [
        ".."
       ]
      },
      {
       "output_type": "stream",
       "stream": "stderr",
       "text": [
        ".."
       ]
      },
      {
       "output_type": "stream",
       "stream": "stderr",
       "text": [
        ".."
       ]
      },
      {
       "output_type": "stream",
       "stream": "stderr",
       "text": [
        ".."
       ]
      },
      {
       "output_type": "stream",
       "stream": "stderr",
       "text": [
        ".."
       ]
      },
      {
       "output_type": "stream",
       "stream": "stderr",
       "text": [
        ".."
       ]
      },
      {
       "output_type": "stream",
       "stream": "stderr",
       "text": [
        ".."
       ]
      },
      {
       "output_type": "stream",
       "stream": "stderr",
       "text": [
        ".."
       ]
      },
      {
       "output_type": "stream",
       "stream": "stderr",
       "text": [
        ".."
       ]
      },
      {
       "output_type": "stream",
       "stream": "stderr",
       "text": [
        ".."
       ]
      },
      {
       "output_type": "stream",
       "stream": "stderr",
       "text": [
        ".."
       ]
      },
      {
       "output_type": "stream",
       "stream": "stderr",
       "text": [
        ".."
       ]
      },
      {
       "output_type": "stream",
       "stream": "stderr",
       "text": [
        ".."
       ]
      },
      {
       "output_type": "stream",
       "stream": "stderr",
       "text": [
        ".."
       ]
      },
      {
       "output_type": "stream",
       "stream": "stderr",
       "text": [
        ".."
       ]
      },
      {
       "output_type": "stream",
       "stream": "stderr",
       "text": [
        ".."
       ]
      },
      {
       "output_type": "stream",
       "stream": "stderr",
       "text": [
        ".."
       ]
      },
      {
       "output_type": "stream",
       "stream": "stderr",
       "text": [
        ".."
       ]
      },
      {
       "output_type": "stream",
       "stream": "stderr",
       "text": [
        ".."
       ]
      },
      {
       "output_type": "stream",
       "stream": "stderr",
       "text": [
        ".."
       ]
      },
      {
       "output_type": "stream",
       "stream": "stderr",
       "text": [
        ".."
       ]
      },
      {
       "output_type": "stream",
       "stream": "stderr",
       "text": [
        ".."
       ]
      },
      {
       "output_type": "stream",
       "stream": "stderr",
       "text": [
        ".."
       ]
      },
      {
       "output_type": "stream",
       "stream": "stderr",
       "text": [
        ".."
       ]
      },
      {
       "output_type": "stream",
       "stream": "stderr",
       "text": [
        ".."
       ]
      },
      {
       "output_type": "stream",
       "stream": "stderr",
       "text": [
        ".."
       ]
      },
      {
       "output_type": "stream",
       "stream": "stderr",
       "text": [
        ".."
       ]
      },
      {
       "output_type": "stream",
       "stream": "stderr",
       "text": [
        ".."
       ]
      },
      {
       "output_type": "stream",
       "stream": "stderr",
       "text": [
        ".."
       ]
      },
      {
       "output_type": "stream",
       "stream": "stderr",
       "text": [
        ".."
       ]
      },
      {
       "output_type": "stream",
       "stream": "stderr",
       "text": [
        ".."
       ]
      },
      {
       "output_type": "stream",
       "stream": "stderr",
       "text": [
        ".."
       ]
      },
      {
       "output_type": "stream",
       "stream": "stderr",
       "text": [
        ".."
       ]
      },
      {
       "output_type": "stream",
       "stream": "stderr",
       "text": [
        ".."
       ]
      },
      {
       "output_type": "stream",
       "stream": "stderr",
       "text": [
        ".."
       ]
      },
      {
       "output_type": "stream",
       "stream": "stderr",
       "text": [
        ".."
       ]
      },
      {
       "output_type": "stream",
       "stream": "stderr",
       "text": [
        ".."
       ]
      },
      {
       "output_type": "stream",
       "stream": "stderr",
       "text": [
        ".."
       ]
      },
      {
       "output_type": "stream",
       "stream": "stderr",
       "text": [
        ".."
       ]
      },
      {
       "output_type": "stream",
       "stream": "stderr",
       "text": [
        ".."
       ]
      },
      {
       "output_type": "stream",
       "stream": "stderr",
       "text": [
        ".."
       ]
      },
      {
       "output_type": "stream",
       "stream": "stderr",
       "text": [
        ".."
       ]
      },
      {
       "output_type": "stream",
       "stream": "stderr",
       "text": [
        ".."
       ]
      },
      {
       "output_type": "stream",
       "stream": "stderr",
       "text": [
        ".."
       ]
      },
      {
       "output_type": "stream",
       "stream": "stderr",
       "text": [
        ".."
       ]
      },
      {
       "output_type": "stream",
       "stream": "stderr",
       "text": [
        ".."
       ]
      },
      {
       "output_type": "stream",
       "stream": "stderr",
       "text": [
        ".."
       ]
      },
      {
       "output_type": "stream",
       "stream": "stderr",
       "text": [
        ".."
       ]
      },
      {
       "output_type": "stream",
       "stream": "stderr",
       "text": [
        ".."
       ]
      },
      {
       "output_type": "stream",
       "stream": "stderr",
       "text": [
        ".."
       ]
      },
      {
       "output_type": "stream",
       "stream": "stderr",
       "text": [
        ".."
       ]
      },
      {
       "output_type": "stream",
       "stream": "stderr",
       "text": [
        ".."
       ]
      },
      {
       "output_type": "stream",
       "stream": "stderr",
       "text": [
        ".."
       ]
      },
      {
       "output_type": "stream",
       "stream": "stderr",
       "text": [
        ".."
       ]
      },
      {
       "output_type": "stream",
       "stream": "stderr",
       "text": [
        ".."
       ]
      },
      {
       "output_type": "stream",
       "stream": "stderr",
       "text": [
        ".."
       ]
      },
      {
       "output_type": "stream",
       "stream": "stderr",
       "text": [
        ".."
       ]
      },
      {
       "output_type": "stream",
       "stream": "stderr",
       "text": [
        ".."
       ]
      },
      {
       "output_type": "stream",
       "stream": "stderr",
       "text": [
        ".."
       ]
      },
      {
       "output_type": "stream",
       "stream": "stderr",
       "text": [
        ".."
       ]
      },
      {
       "output_type": "stream",
       "stream": "stderr",
       "text": [
        ".."
       ]
      },
      {
       "output_type": "stream",
       "stream": "stderr",
       "text": [
        ".."
       ]
      },
      {
       "output_type": "stream",
       "stream": "stderr",
       "text": [
        ".."
       ]
      },
      {
       "output_type": "stream",
       "stream": "stderr",
       "text": [
        ".."
       ]
      },
      {
       "output_type": "stream",
       "stream": "stderr",
       "text": [
        ".."
       ]
      },
      {
       "output_type": "stream",
       "stream": "stderr",
       "text": [
        ".."
       ]
      },
      {
       "output_type": "stream",
       "stream": "stderr",
       "text": [
        ".."
       ]
      },
      {
       "output_type": "stream",
       "stream": "stderr",
       "text": [
        ".."
       ]
      },
      {
       "output_type": "stream",
       "stream": "stderr",
       "text": [
        ".."
       ]
      },
      {
       "output_type": "stream",
       "stream": "stderr",
       "text": [
        ".."
       ]
      },
      {
       "output_type": "stream",
       "stream": "stderr",
       "text": [
        ".."
       ]
      },
      {
       "output_type": "stream",
       "stream": "stderr",
       "text": [
        ".."
       ]
      },
      {
       "output_type": "stream",
       "stream": "stderr",
       "text": [
        ".."
       ]
      },
      {
       "output_type": "stream",
       "stream": "stderr",
       "text": [
        ".."
       ]
      },
      {
       "output_type": "stream",
       "stream": "stderr",
       "text": [
        ".\n",
        "Step 1"
       ]
      },
      {
       "output_type": "stream",
       "stream": "stderr",
       "text": [
        ".."
       ]
      },
      {
       "output_type": "stream",
       "stream": "stderr",
       "text": [
        ".."
       ]
      },
      {
       "output_type": "stream",
       "stream": "stderr",
       "text": [
        ".."
       ]
      },
      {
       "output_type": "stream",
       "stream": "stderr",
       "text": [
        ".."
       ]
      },
      {
       "output_type": "stream",
       "stream": "stderr",
       "text": [
        ".."
       ]
      },
      {
       "output_type": "stream",
       "stream": "stderr",
       "text": [
        ".."
       ]
      },
      {
       "output_type": "stream",
       "stream": "stderr",
       "text": [
        ".."
       ]
      },
      {
       "output_type": "stream",
       "stream": "stderr",
       "text": [
        ".."
       ]
      },
      {
       "output_type": "stream",
       "stream": "stderr",
       "text": [
        ".."
       ]
      },
      {
       "output_type": "stream",
       "stream": "stderr",
       "text": [
        ".."
       ]
      },
      {
       "output_type": "stream",
       "stream": "stderr",
       "text": [
        ".."
       ]
      },
      {
       "output_type": "stream",
       "stream": "stderr",
       "text": [
        ".."
       ]
      },
      {
       "output_type": "stream",
       "stream": "stderr",
       "text": [
        ".."
       ]
      },
      {
       "output_type": "stream",
       "stream": "stderr",
       "text": [
        ".."
       ]
      },
      {
       "output_type": "stream",
       "stream": "stderr",
       "text": [
        ".."
       ]
      },
      {
       "output_type": "stream",
       "stream": "stderr",
       "text": [
        ".."
       ]
      },
      {
       "output_type": "stream",
       "stream": "stderr",
       "text": [
        ".."
       ]
      },
      {
       "output_type": "stream",
       "stream": "stderr",
       "text": [
        ".."
       ]
      },
      {
       "output_type": "stream",
       "stream": "stderr",
       "text": [
        ".."
       ]
      },
      {
       "output_type": "stream",
       "stream": "stderr",
       "text": [
        ".."
       ]
      },
      {
       "output_type": "stream",
       "stream": "stderr",
       "text": [
        ".."
       ]
      },
      {
       "output_type": "stream",
       "stream": "stderr",
       "text": [
        ".."
       ]
      },
      {
       "output_type": "stream",
       "stream": "stderr",
       "text": [
        ".."
       ]
      },
      {
       "output_type": "stream",
       "stream": "stderr",
       "text": [
        ".."
       ]
      },
      {
       "output_type": "stream",
       "stream": "stderr",
       "text": [
        ".."
       ]
      },
      {
       "output_type": "stream",
       "stream": "stderr",
       "text": [
        ".."
       ]
      },
      {
       "output_type": "stream",
       "stream": "stderr",
       "text": [
        ".."
       ]
      },
      {
       "output_type": "stream",
       "stream": "stderr",
       "text": [
        ".."
       ]
      },
      {
       "output_type": "stream",
       "stream": "stderr",
       "text": [
        ".."
       ]
      },
      {
       "output_type": "stream",
       "stream": "stderr",
       "text": [
        ".."
       ]
      },
      {
       "output_type": "stream",
       "stream": "stderr",
       "text": [
        ".."
       ]
      },
      {
       "output_type": "stream",
       "stream": "stderr",
       "text": [
        ".."
       ]
      },
      {
       "output_type": "stream",
       "stream": "stderr",
       "text": [
        ".."
       ]
      },
      {
       "output_type": "stream",
       "stream": "stderr",
       "text": [
        ".."
       ]
      },
      {
       "output_type": "stream",
       "stream": "stderr",
       "text": [
        ".."
       ]
      },
      {
       "output_type": "stream",
       "stream": "stderr",
       "text": [
        ".."
       ]
      },
      {
       "output_type": "stream",
       "stream": "stderr",
       "text": [
        ".."
       ]
      },
      {
       "output_type": "stream",
       "stream": "stderr",
       "text": [
        ".."
       ]
      },
      {
       "output_type": "stream",
       "stream": "stderr",
       "text": [
        ".."
       ]
      },
      {
       "output_type": "stream",
       "stream": "stderr",
       "text": [
        ".."
       ]
      },
      {
       "output_type": "stream",
       "stream": "stderr",
       "text": [
        ".."
       ]
      },
      {
       "output_type": "stream",
       "stream": "stderr",
       "text": [
        ".."
       ]
      },
      {
       "output_type": "stream",
       "stream": "stderr",
       "text": [
        ".."
       ]
      },
      {
       "output_type": "stream",
       "stream": "stderr",
       "text": [
        ".."
       ]
      },
      {
       "output_type": "stream",
       "stream": "stderr",
       "text": [
        ".."
       ]
      },
      {
       "output_type": "stream",
       "stream": "stderr",
       "text": [
        ".."
       ]
      },
      {
       "output_type": "stream",
       "stream": "stderr",
       "text": [
        ".."
       ]
      },
      {
       "output_type": "stream",
       "stream": "stderr",
       "text": [
        ".."
       ]
      },
      {
       "output_type": "stream",
       "stream": "stderr",
       "text": [
        ".."
       ]
      },
      {
       "output_type": "stream",
       "stream": "stderr",
       "text": [
        ".."
       ]
      },
      {
       "output_type": "stream",
       "stream": "stderr",
       "text": [
        ".."
       ]
      },
      {
       "output_type": "stream",
       "stream": "stderr",
       "text": [
        ".."
       ]
      },
      {
       "output_type": "stream",
       "stream": "stderr",
       "text": [
        ".."
       ]
      },
      {
       "output_type": "stream",
       "stream": "stderr",
       "text": [
        ".."
       ]
      },
      {
       "output_type": "stream",
       "stream": "stderr",
       "text": [
        ".."
       ]
      },
      {
       "output_type": "stream",
       "stream": "stderr",
       "text": [
        ".."
       ]
      },
      {
       "output_type": "stream",
       "stream": "stderr",
       "text": [
        ".."
       ]
      },
      {
       "output_type": "stream",
       "stream": "stderr",
       "text": [
        ".."
       ]
      },
      {
       "output_type": "stream",
       "stream": "stderr",
       "text": [
        ".."
       ]
      },
      {
       "output_type": "stream",
       "stream": "stderr",
       "text": [
        ".."
       ]
      },
      {
       "output_type": "stream",
       "stream": "stderr",
       "text": [
        ".."
       ]
      },
      {
       "output_type": "stream",
       "stream": "stderr",
       "text": [
        ".."
       ]
      },
      {
       "output_type": "stream",
       "stream": "stderr",
       "text": [
        ".."
       ]
      },
      {
       "output_type": "stream",
       "stream": "stderr",
       "text": [
        ".."
       ]
      },
      {
       "output_type": "stream",
       "stream": "stderr",
       "text": [
        ".."
       ]
      },
      {
       "output_type": "stream",
       "stream": "stderr",
       "text": [
        ".."
       ]
      },
      {
       "output_type": "stream",
       "stream": "stderr",
       "text": [
        ".."
       ]
      },
      {
       "output_type": "stream",
       "stream": "stderr",
       "text": [
        ".."
       ]
      },
      {
       "output_type": "stream",
       "stream": "stderr",
       "text": [
        ".."
       ]
      },
      {
       "output_type": "stream",
       "stream": "stderr",
       "text": [
        ".."
       ]
      },
      {
       "output_type": "stream",
       "stream": "stderr",
       "text": [
        ".."
       ]
      },
      {
       "output_type": "stream",
       "stream": "stderr",
       "text": [
        ".."
       ]
      },
      {
       "output_type": "stream",
       "stream": "stderr",
       "text": [
        ".."
       ]
      },
      {
       "output_type": "stream",
       "stream": "stderr",
       "text": [
        ".."
       ]
      },
      {
       "output_type": "stream",
       "stream": "stderr",
       "text": [
        ".."
       ]
      },
      {
       "output_type": "stream",
       "stream": "stderr",
       "text": [
        ".."
       ]
      },
      {
       "output_type": "stream",
       "stream": "stderr",
       "text": [
        ".."
       ]
      },
      {
       "output_type": "stream",
       "stream": "stderr",
       "text": [
        ".."
       ]
      },
      {
       "output_type": "stream",
       "stream": "stderr",
       "text": [
        ".."
       ]
      },
      {
       "output_type": "stream",
       "stream": "stderr",
       "text": [
        ".."
       ]
      },
      {
       "output_type": "stream",
       "stream": "stderr",
       "text": [
        ".."
       ]
      },
      {
       "output_type": "stream",
       "stream": "stderr",
       "text": [
        ".."
       ]
      },
      {
       "output_type": "stream",
       "stream": "stderr",
       "text": [
        ".."
       ]
      },
      {
       "output_type": "stream",
       "stream": "stderr",
       "text": [
        ".."
       ]
      },
      {
       "output_type": "stream",
       "stream": "stderr",
       "text": [
        ".."
       ]
      },
      {
       "output_type": "stream",
       "stream": "stderr",
       "text": [
        ".."
       ]
      },
      {
       "output_type": "stream",
       "stream": "stderr",
       "text": [
        ".."
       ]
      },
      {
       "output_type": "stream",
       "stream": "stderr",
       "text": [
        ".."
       ]
      },
      {
       "output_type": "stream",
       "stream": "stderr",
       "text": [
        ".."
       ]
      },
      {
       "output_type": "stream",
       "stream": "stderr",
       "text": [
        ".."
       ]
      },
      {
       "output_type": "stream",
       "stream": "stderr",
       "text": [
        ".."
       ]
      },
      {
       "output_type": "stream",
       "stream": "stderr",
       "text": [
        ".."
       ]
      },
      {
       "output_type": "stream",
       "stream": "stderr",
       "text": [
        ".."
       ]
      },
      {
       "output_type": "stream",
       "stream": "stderr",
       "text": [
        ".."
       ]
      },
      {
       "output_type": "stream",
       "stream": "stderr",
       "text": [
        ".."
       ]
      },
      {
       "output_type": "stream",
       "stream": "stderr",
       "text": [
        ".."
       ]
      },
      {
       "output_type": "stream",
       "stream": "stderr",
       "text": [
        ".."
       ]
      },
      {
       "output_type": "stream",
       "stream": "stderr",
       "text": [
        ".."
       ]
      },
      {
       "output_type": "stream",
       "stream": "stderr",
       "text": [
        ".."
       ]
      },
      {
       "output_type": "stream",
       "stream": "stderr",
       "text": [
        ".."
       ]
      },
      {
       "output_type": "stream",
       "stream": "stderr",
       "text": [
        "\n",
        "Step 2."
       ]
      },
      {
       "output_type": "stream",
       "stream": "stderr",
       "text": [
        ".."
       ]
      },
      {
       "output_type": "stream",
       "stream": "stderr",
       "text": [
        ".."
       ]
      },
      {
       "output_type": "stream",
       "stream": "stderr",
       "text": [
        ".."
       ]
      },
      {
       "output_type": "stream",
       "stream": "stderr",
       "text": [
        ".."
       ]
      },
      {
       "output_type": "stream",
       "stream": "stderr",
       "text": [
        ".."
       ]
      },
      {
       "output_type": "stream",
       "stream": "stderr",
       "text": [
        ".."
       ]
      },
      {
       "output_type": "stream",
       "stream": "stderr",
       "text": [
        ".."
       ]
      },
      {
       "output_type": "stream",
       "stream": "stderr",
       "text": [
        ".."
       ]
      },
      {
       "output_type": "stream",
       "stream": "stderr",
       "text": [
        ".."
       ]
      },
      {
       "output_type": "stream",
       "stream": "stderr",
       "text": [
        ".."
       ]
      },
      {
       "output_type": "stream",
       "stream": "stderr",
       "text": [
        ".."
       ]
      },
      {
       "output_type": "stream",
       "stream": "stderr",
       "text": [
        ".."
       ]
      },
      {
       "output_type": "stream",
       "stream": "stderr",
       "text": [
        ".."
       ]
      },
      {
       "output_type": "stream",
       "stream": "stderr",
       "text": [
        ".."
       ]
      },
      {
       "output_type": "stream",
       "stream": "stderr",
       "text": [
        ".."
       ]
      },
      {
       "output_type": "stream",
       "stream": "stderr",
       "text": [
        ".."
       ]
      },
      {
       "output_type": "stream",
       "stream": "stderr",
       "text": [
        ".."
       ]
      },
      {
       "output_type": "stream",
       "stream": "stderr",
       "text": [
        ".."
       ]
      },
      {
       "output_type": "stream",
       "stream": "stderr",
       "text": [
        ".."
       ]
      },
      {
       "output_type": "stream",
       "stream": "stderr",
       "text": [
        ".."
       ]
      },
      {
       "output_type": "stream",
       "stream": "stderr",
       "text": [
        ".."
       ]
      },
      {
       "output_type": "stream",
       "stream": "stderr",
       "text": [
        ".."
       ]
      },
      {
       "output_type": "stream",
       "stream": "stderr",
       "text": [
        ".."
       ]
      },
      {
       "output_type": "stream",
       "stream": "stderr",
       "text": [
        ".."
       ]
      },
      {
       "output_type": "stream",
       "stream": "stderr",
       "text": [
        ".."
       ]
      },
      {
       "output_type": "stream",
       "stream": "stderr",
       "text": [
        ".."
       ]
      },
      {
       "output_type": "stream",
       "stream": "stderr",
       "text": [
        ".."
       ]
      },
      {
       "output_type": "stream",
       "stream": "stderr",
       "text": [
        ".."
       ]
      },
      {
       "output_type": "stream",
       "stream": "stderr",
       "text": [
        ".."
       ]
      },
      {
       "output_type": "stream",
       "stream": "stderr",
       "text": [
        ".."
       ]
      },
      {
       "output_type": "stream",
       "stream": "stderr",
       "text": [
        ".."
       ]
      },
      {
       "output_type": "stream",
       "stream": "stderr",
       "text": [
        ".."
       ]
      },
      {
       "output_type": "stream",
       "stream": "stderr",
       "text": [
        ".."
       ]
      },
      {
       "output_type": "stream",
       "stream": "stderr",
       "text": [
        ".."
       ]
      },
      {
       "output_type": "stream",
       "stream": "stderr",
       "text": [
        ".."
       ]
      },
      {
       "output_type": "stream",
       "stream": "stderr",
       "text": [
        ".."
       ]
      },
      {
       "output_type": "stream",
       "stream": "stderr",
       "text": [
        ".."
       ]
      },
      {
       "output_type": "stream",
       "stream": "stderr",
       "text": [
        ".."
       ]
      },
      {
       "output_type": "stream",
       "stream": "stderr",
       "text": [
        ".."
       ]
      },
      {
       "output_type": "stream",
       "stream": "stderr",
       "text": [
        ".."
       ]
      },
      {
       "output_type": "stream",
       "stream": "stderr",
       "text": [
        ".."
       ]
      },
      {
       "output_type": "stream",
       "stream": "stderr",
       "text": [
        ".."
       ]
      },
      {
       "output_type": "stream",
       "stream": "stderr",
       "text": [
        ".."
       ]
      },
      {
       "output_type": "stream",
       "stream": "stderr",
       "text": [
        ".."
       ]
      },
      {
       "output_type": "stream",
       "stream": "stderr",
       "text": [
        ".."
       ]
      },
      {
       "output_type": "stream",
       "stream": "stderr",
       "text": [
        ".."
       ]
      },
      {
       "output_type": "stream",
       "stream": "stderr",
       "text": [
        ".."
       ]
      },
      {
       "output_type": "stream",
       "stream": "stderr",
       "text": [
        ".."
       ]
      },
      {
       "output_type": "stream",
       "stream": "stderr",
       "text": [
        ".."
       ]
      },
      {
       "output_type": "stream",
       "stream": "stderr",
       "text": [
        ".."
       ]
      },
      {
       "output_type": "stream",
       "stream": "stderr",
       "text": [
        ".."
       ]
      },
      {
       "output_type": "stream",
       "stream": "stderr",
       "text": [
        ".."
       ]
      },
      {
       "output_type": "stream",
       "stream": "stderr",
       "text": [
        ".."
       ]
      },
      {
       "output_type": "stream",
       "stream": "stderr",
       "text": [
        ".."
       ]
      },
      {
       "output_type": "stream",
       "stream": "stderr",
       "text": [
        ".."
       ]
      },
      {
       "output_type": "stream",
       "stream": "stderr",
       "text": [
        ".."
       ]
      },
      {
       "output_type": "stream",
       "stream": "stderr",
       "text": [
        ".."
       ]
      },
      {
       "output_type": "stream",
       "stream": "stderr",
       "text": [
        ".."
       ]
      },
      {
       "output_type": "stream",
       "stream": "stderr",
       "text": [
        ".."
       ]
      },
      {
       "output_type": "stream",
       "stream": "stderr",
       "text": [
        ".."
       ]
      },
      {
       "output_type": "stream",
       "stream": "stderr",
       "text": [
        ".."
       ]
      },
      {
       "output_type": "stream",
       "stream": "stderr",
       "text": [
        ".."
       ]
      },
      {
       "output_type": "stream",
       "stream": "stderr",
       "text": [
        ".."
       ]
      },
      {
       "output_type": "stream",
       "stream": "stderr",
       "text": [
        ".."
       ]
      },
      {
       "output_type": "stream",
       "stream": "stderr",
       "text": [
        ".."
       ]
      },
      {
       "output_type": "stream",
       "stream": "stderr",
       "text": [
        ".."
       ]
      },
      {
       "output_type": "stream",
       "stream": "stderr",
       "text": [
        ".."
       ]
      },
      {
       "output_type": "stream",
       "stream": "stderr",
       "text": [
        ".."
       ]
      },
      {
       "output_type": "stream",
       "stream": "stderr",
       "text": [
        ".."
       ]
      },
      {
       "output_type": "stream",
       "stream": "stderr",
       "text": [
        ".."
       ]
      },
      {
       "output_type": "stream",
       "stream": "stderr",
       "text": [
        ".."
       ]
      },
      {
       "output_type": "stream",
       "stream": "stderr",
       "text": [
        ".."
       ]
      },
      {
       "output_type": "stream",
       "stream": "stderr",
       "text": [
        ".."
       ]
      },
      {
       "output_type": "stream",
       "stream": "stderr",
       "text": [
        ".."
       ]
      },
      {
       "output_type": "stream",
       "stream": "stderr",
       "text": [
        ".."
       ]
      },
      {
       "output_type": "stream",
       "stream": "stderr",
       "text": [
        ".."
       ]
      },
      {
       "output_type": "stream",
       "stream": "stderr",
       "text": [
        ".."
       ]
      },
      {
       "output_type": "stream",
       "stream": "stderr",
       "text": [
        ".."
       ]
      },
      {
       "output_type": "stream",
       "stream": "stderr",
       "text": [
        ".."
       ]
      },
      {
       "output_type": "stream",
       "stream": "stderr",
       "text": [
        ".."
       ]
      },
      {
       "output_type": "stream",
       "stream": "stderr",
       "text": [
        ".."
       ]
      },
      {
       "output_type": "stream",
       "stream": "stderr",
       "text": [
        ".."
       ]
      },
      {
       "output_type": "stream",
       "stream": "stderr",
       "text": [
        ".."
       ]
      },
      {
       "output_type": "stream",
       "stream": "stderr",
       "text": [
        ".."
       ]
      },
      {
       "output_type": "stream",
       "stream": "stderr",
       "text": [
        ".."
       ]
      },
      {
       "output_type": "stream",
       "stream": "stderr",
       "text": [
        ".."
       ]
      },
      {
       "output_type": "stream",
       "stream": "stderr",
       "text": [
        ".."
       ]
      },
      {
       "output_type": "stream",
       "stream": "stderr",
       "text": [
        ".."
       ]
      },
      {
       "output_type": "stream",
       "stream": "stderr",
       "text": [
        ".."
       ]
      },
      {
       "output_type": "stream",
       "stream": "stderr",
       "text": [
        ".."
       ]
      },
      {
       "output_type": "stream",
       "stream": "stderr",
       "text": [
        ".."
       ]
      },
      {
       "output_type": "stream",
       "stream": "stderr",
       "text": [
        ".."
       ]
      },
      {
       "output_type": "stream",
       "stream": "stderr",
       "text": [
        ".."
       ]
      },
      {
       "output_type": "stream",
       "stream": "stderr",
       "text": [
        ".."
       ]
      },
      {
       "output_type": "stream",
       "stream": "stderr",
       "text": [
        ".."
       ]
      },
      {
       "output_type": "stream",
       "stream": "stderr",
       "text": [
        ".."
       ]
      },
      {
       "output_type": "stream",
       "stream": "stderr",
       "text": [
        ".."
       ]
      },
      {
       "output_type": "stream",
       "stream": "stderr",
       "text": [
        ".."
       ]
      },
      {
       "output_type": "stream",
       "stream": "stderr",
       "text": [
        ".."
       ]
      },
      {
       "output_type": "stream",
       "stream": "stderr",
       "text": [
        ".\n",
        "Step 3"
       ]
      },
      {
       "output_type": "stream",
       "stream": "stderr",
       "text": [
        ".."
       ]
      },
      {
       "output_type": "stream",
       "stream": "stderr",
       "text": [
        ".."
       ]
      },
      {
       "output_type": "stream",
       "stream": "stderr",
       "text": [
        ".."
       ]
      },
      {
       "output_type": "stream",
       "stream": "stderr",
       "text": [
        ".."
       ]
      },
      {
       "output_type": "stream",
       "stream": "stderr",
       "text": [
        ".."
       ]
      },
      {
       "output_type": "stream",
       "stream": "stderr",
       "text": [
        ".."
       ]
      },
      {
       "output_type": "stream",
       "stream": "stderr",
       "text": [
        ".."
       ]
      },
      {
       "output_type": "stream",
       "stream": "stderr",
       "text": [
        ".."
       ]
      },
      {
       "output_type": "stream",
       "stream": "stderr",
       "text": [
        ".."
       ]
      },
      {
       "output_type": "stream",
       "stream": "stderr",
       "text": [
        ".."
       ]
      },
      {
       "output_type": "stream",
       "stream": "stderr",
       "text": [
        ".."
       ]
      },
      {
       "output_type": "stream",
       "stream": "stderr",
       "text": [
        ".."
       ]
      },
      {
       "output_type": "stream",
       "stream": "stderr",
       "text": [
        ".."
       ]
      },
      {
       "output_type": "stream",
       "stream": "stderr",
       "text": [
        ".."
       ]
      },
      {
       "output_type": "stream",
       "stream": "stderr",
       "text": [
        ".."
       ]
      },
      {
       "output_type": "stream",
       "stream": "stderr",
       "text": [
        ".."
       ]
      },
      {
       "output_type": "stream",
       "stream": "stderr",
       "text": [
        ".."
       ]
      },
      {
       "output_type": "stream",
       "stream": "stderr",
       "text": [
        ".."
       ]
      },
      {
       "output_type": "stream",
       "stream": "stderr",
       "text": [
        ".."
       ]
      },
      {
       "output_type": "stream",
       "stream": "stderr",
       "text": [
        ".."
       ]
      },
      {
       "output_type": "stream",
       "stream": "stderr",
       "text": [
        ".."
       ]
      },
      {
       "output_type": "stream",
       "stream": "stderr",
       "text": [
        ".."
       ]
      },
      {
       "output_type": "stream",
       "stream": "stderr",
       "text": [
        ".."
       ]
      },
      {
       "output_type": "stream",
       "stream": "stderr",
       "text": [
        ".."
       ]
      },
      {
       "output_type": "stream",
       "stream": "stderr",
       "text": [
        ".."
       ]
      },
      {
       "output_type": "stream",
       "stream": "stderr",
       "text": [
        ".."
       ]
      },
      {
       "output_type": "stream",
       "stream": "stderr",
       "text": [
        ".."
       ]
      },
      {
       "output_type": "stream",
       "stream": "stderr",
       "text": [
        ".."
       ]
      },
      {
       "output_type": "stream",
       "stream": "stderr",
       "text": [
        ".."
       ]
      },
      {
       "output_type": "stream",
       "stream": "stderr",
       "text": [
        ".."
       ]
      },
      {
       "output_type": "stream",
       "stream": "stderr",
       "text": [
        ".."
       ]
      },
      {
       "output_type": "stream",
       "stream": "stderr",
       "text": [
        ".."
       ]
      },
      {
       "output_type": "stream",
       "stream": "stderr",
       "text": [
        ".."
       ]
      },
      {
       "output_type": "stream",
       "stream": "stderr",
       "text": [
        ".."
       ]
      },
      {
       "output_type": "stream",
       "stream": "stderr",
       "text": [
        ".."
       ]
      },
      {
       "output_type": "stream",
       "stream": "stderr",
       "text": [
        ".."
       ]
      },
      {
       "output_type": "stream",
       "stream": "stderr",
       "text": [
        ".."
       ]
      },
      {
       "output_type": "stream",
       "stream": "stderr",
       "text": [
        ".."
       ]
      },
      {
       "output_type": "stream",
       "stream": "stderr",
       "text": [
        ".."
       ]
      },
      {
       "output_type": "stream",
       "stream": "stderr",
       "text": [
        ".."
       ]
      },
      {
       "output_type": "stream",
       "stream": "stderr",
       "text": [
        ".."
       ]
      },
      {
       "output_type": "stream",
       "stream": "stderr",
       "text": [
        ".."
       ]
      },
      {
       "output_type": "stream",
       "stream": "stderr",
       "text": [
        ".."
       ]
      },
      {
       "output_type": "stream",
       "stream": "stderr",
       "text": [
        ".."
       ]
      },
      {
       "output_type": "stream",
       "stream": "stderr",
       "text": [
        ".."
       ]
      },
      {
       "output_type": "stream",
       "stream": "stderr",
       "text": [
        ".."
       ]
      },
      {
       "output_type": "stream",
       "stream": "stderr",
       "text": [
        ".."
       ]
      },
      {
       "output_type": "stream",
       "stream": "stderr",
       "text": [
        ".."
       ]
      },
      {
       "output_type": "stream",
       "stream": "stderr",
       "text": [
        ".."
       ]
      },
      {
       "output_type": "stream",
       "stream": "stderr",
       "text": [
        ".."
       ]
      },
      {
       "output_type": "stream",
       "stream": "stderr",
       "text": [
        ".."
       ]
      },
      {
       "output_type": "stream",
       "stream": "stderr",
       "text": [
        ".."
       ]
      },
      {
       "output_type": "stream",
       "stream": "stderr",
       "text": [
        ".."
       ]
      },
      {
       "output_type": "stream",
       "stream": "stderr",
       "text": [
        ".."
       ]
      },
      {
       "output_type": "stream",
       "stream": "stderr",
       "text": [
        ".."
       ]
      },
      {
       "output_type": "stream",
       "stream": "stderr",
       "text": [
        ".."
       ]
      },
      {
       "output_type": "stream",
       "stream": "stderr",
       "text": [
        ".."
       ]
      },
      {
       "output_type": "stream",
       "stream": "stderr",
       "text": [
        ".."
       ]
      },
      {
       "output_type": "stream",
       "stream": "stderr",
       "text": [
        ".."
       ]
      },
      {
       "output_type": "stream",
       "stream": "stderr",
       "text": [
        ".."
       ]
      },
      {
       "output_type": "stream",
       "stream": "stderr",
       "text": [
        ".."
       ]
      },
      {
       "output_type": "stream",
       "stream": "stderr",
       "text": [
        ".."
       ]
      },
      {
       "output_type": "stream",
       "stream": "stderr",
       "text": [
        ".."
       ]
      },
      {
       "output_type": "stream",
       "stream": "stderr",
       "text": [
        ".."
       ]
      },
      {
       "output_type": "stream",
       "stream": "stderr",
       "text": [
        ".."
       ]
      },
      {
       "output_type": "stream",
       "stream": "stderr",
       "text": [
        ".."
       ]
      },
      {
       "output_type": "stream",
       "stream": "stderr",
       "text": [
        ".."
       ]
      },
      {
       "output_type": "stream",
       "stream": "stderr",
       "text": [
        ".."
       ]
      },
      {
       "output_type": "stream",
       "stream": "stderr",
       "text": [
        ".."
       ]
      },
      {
       "output_type": "stream",
       "stream": "stderr",
       "text": [
        ".."
       ]
      },
      {
       "output_type": "stream",
       "stream": "stderr",
       "text": [
        ".."
       ]
      },
      {
       "output_type": "stream",
       "stream": "stderr",
       "text": [
        ".."
       ]
      },
      {
       "output_type": "stream",
       "stream": "stderr",
       "text": [
        ".."
       ]
      },
      {
       "output_type": "stream",
       "stream": "stderr",
       "text": [
        ".."
       ]
      },
      {
       "output_type": "stream",
       "stream": "stderr",
       "text": [
        ".."
       ]
      },
      {
       "output_type": "stream",
       "stream": "stderr",
       "text": [
        ".."
       ]
      },
      {
       "output_type": "stream",
       "stream": "stderr",
       "text": [
        ".."
       ]
      },
      {
       "output_type": "stream",
       "stream": "stderr",
       "text": [
        ".."
       ]
      },
      {
       "output_type": "stream",
       "stream": "stderr",
       "text": [
        ".."
       ]
      },
      {
       "output_type": "stream",
       "stream": "stderr",
       "text": [
        ".."
       ]
      },
      {
       "output_type": "stream",
       "stream": "stderr",
       "text": [
        ".."
       ]
      },
      {
       "output_type": "stream",
       "stream": "stderr",
       "text": [
        ".."
       ]
      },
      {
       "output_type": "stream",
       "stream": "stderr",
       "text": [
        ".."
       ]
      },
      {
       "output_type": "stream",
       "stream": "stderr",
       "text": [
        ".."
       ]
      },
      {
       "output_type": "stream",
       "stream": "stderr",
       "text": [
        ".."
       ]
      },
      {
       "output_type": "stream",
       "stream": "stderr",
       "text": [
        ".."
       ]
      },
      {
       "output_type": "stream",
       "stream": "stderr",
       "text": [
        ".."
       ]
      },
      {
       "output_type": "stream",
       "stream": "stderr",
       "text": [
        ".."
       ]
      },
      {
       "output_type": "stream",
       "stream": "stderr",
       "text": [
        ".."
       ]
      },
      {
       "output_type": "stream",
       "stream": "stderr",
       "text": [
        ".."
       ]
      },
      {
       "output_type": "stream",
       "stream": "stderr",
       "text": [
        ".."
       ]
      },
      {
       "output_type": "stream",
       "stream": "stderr",
       "text": [
        ".."
       ]
      },
      {
       "output_type": "stream",
       "stream": "stderr",
       "text": [
        ".."
       ]
      },
      {
       "output_type": "stream",
       "stream": "stderr",
       "text": [
        ".."
       ]
      },
      {
       "output_type": "stream",
       "stream": "stderr",
       "text": [
        ".."
       ]
      },
      {
       "output_type": "stream",
       "stream": "stderr",
       "text": [
        ".."
       ]
      },
      {
       "output_type": "stream",
       "stream": "stderr",
       "text": [
        ".."
       ]
      },
      {
       "output_type": "stream",
       "stream": "stderr",
       "text": [
        ".."
       ]
      },
      {
       "output_type": "stream",
       "stream": "stderr",
       "text": [
        ".."
       ]
      },
      {
       "output_type": "stream",
       "stream": "stderr",
       "text": [
        ".."
       ]
      },
      {
       "output_type": "stream",
       "stream": "stderr",
       "text": [
        "\n",
        "Step 4."
       ]
      },
      {
       "output_type": "stream",
       "stream": "stderr",
       "text": [
        ".."
       ]
      },
      {
       "output_type": "stream",
       "stream": "stderr",
       "text": [
        ".."
       ]
      },
      {
       "output_type": "stream",
       "stream": "stderr",
       "text": [
        ".."
       ]
      },
      {
       "output_type": "stream",
       "stream": "stderr",
       "text": [
        ".."
       ]
      },
      {
       "output_type": "stream",
       "stream": "stderr",
       "text": [
        ".."
       ]
      },
      {
       "output_type": "stream",
       "stream": "stderr",
       "text": [
        ".."
       ]
      },
      {
       "output_type": "stream",
       "stream": "stderr",
       "text": [
        ".."
       ]
      },
      {
       "output_type": "stream",
       "stream": "stderr",
       "text": [
        ".."
       ]
      },
      {
       "output_type": "stream",
       "stream": "stderr",
       "text": [
        ".."
       ]
      },
      {
       "output_type": "stream",
       "stream": "stderr",
       "text": [
        ".."
       ]
      },
      {
       "output_type": "stream",
       "stream": "stderr",
       "text": [
        ".."
       ]
      },
      {
       "output_type": "stream",
       "stream": "stderr",
       "text": [
        ".."
       ]
      },
      {
       "output_type": "stream",
       "stream": "stderr",
       "text": [
        ".."
       ]
      },
      {
       "output_type": "stream",
       "stream": "stderr",
       "text": [
        ".."
       ]
      },
      {
       "output_type": "stream",
       "stream": "stderr",
       "text": [
        ".."
       ]
      },
      {
       "output_type": "stream",
       "stream": "stderr",
       "text": [
        ".."
       ]
      },
      {
       "output_type": "stream",
       "stream": "stderr",
       "text": [
        ".."
       ]
      },
      {
       "output_type": "stream",
       "stream": "stderr",
       "text": [
        ".."
       ]
      },
      {
       "output_type": "stream",
       "stream": "stderr",
       "text": [
        ".."
       ]
      },
      {
       "output_type": "stream",
       "stream": "stderr",
       "text": [
        ".."
       ]
      },
      {
       "output_type": "stream",
       "stream": "stderr",
       "text": [
        ".."
       ]
      },
      {
       "output_type": "stream",
       "stream": "stderr",
       "text": [
        ".."
       ]
      },
      {
       "output_type": "stream",
       "stream": "stderr",
       "text": [
        ".."
       ]
      },
      {
       "output_type": "stream",
       "stream": "stderr",
       "text": [
        ".."
       ]
      },
      {
       "output_type": "stream",
       "stream": "stderr",
       "text": [
        ".."
       ]
      },
      {
       "output_type": "stream",
       "stream": "stderr",
       "text": [
        ".."
       ]
      },
      {
       "output_type": "stream",
       "stream": "stderr",
       "text": [
        ".."
       ]
      },
      {
       "output_type": "stream",
       "stream": "stderr",
       "text": [
        ".."
       ]
      },
      {
       "output_type": "stream",
       "stream": "stderr",
       "text": [
        ".."
       ]
      },
      {
       "output_type": "stream",
       "stream": "stderr",
       "text": [
        ".."
       ]
      },
      {
       "output_type": "stream",
       "stream": "stderr",
       "text": [
        ".."
       ]
      },
      {
       "output_type": "stream",
       "stream": "stderr",
       "text": [
        ".."
       ]
      },
      {
       "output_type": "stream",
       "stream": "stderr",
       "text": [
        ".."
       ]
      },
      {
       "output_type": "stream",
       "stream": "stderr",
       "text": [
        ".."
       ]
      },
      {
       "output_type": "stream",
       "stream": "stderr",
       "text": [
        ".."
       ]
      },
      {
       "output_type": "stream",
       "stream": "stderr",
       "text": [
        ".."
       ]
      },
      {
       "output_type": "stream",
       "stream": "stderr",
       "text": [
        ".."
       ]
      },
      {
       "output_type": "stream",
       "stream": "stderr",
       "text": [
        ".."
       ]
      },
      {
       "output_type": "stream",
       "stream": "stderr",
       "text": [
        ".."
       ]
      },
      {
       "output_type": "stream",
       "stream": "stderr",
       "text": [
        ".."
       ]
      },
      {
       "output_type": "stream",
       "stream": "stderr",
       "text": [
        ".."
       ]
      },
      {
       "output_type": "stream",
       "stream": "stderr",
       "text": [
        ".."
       ]
      },
      {
       "output_type": "stream",
       "stream": "stderr",
       "text": [
        ".."
       ]
      },
      {
       "output_type": "stream",
       "stream": "stderr",
       "text": [
        ".."
       ]
      },
      {
       "output_type": "stream",
       "stream": "stderr",
       "text": [
        ".."
       ]
      },
      {
       "output_type": "stream",
       "stream": "stderr",
       "text": [
        ".."
       ]
      },
      {
       "output_type": "stream",
       "stream": "stderr",
       "text": [
        ".."
       ]
      },
      {
       "output_type": "stream",
       "stream": "stderr",
       "text": [
        ".."
       ]
      },
      {
       "output_type": "stream",
       "stream": "stderr",
       "text": [
        ".."
       ]
      },
      {
       "output_type": "stream",
       "stream": "stderr",
       "text": [
        ".."
       ]
      },
      {
       "output_type": "stream",
       "stream": "stderr",
       "text": [
        ".."
       ]
      },
      {
       "output_type": "stream",
       "stream": "stderr",
       "text": [
        ".."
       ]
      },
      {
       "output_type": "stream",
       "stream": "stderr",
       "text": [
        ".."
       ]
      },
      {
       "output_type": "stream",
       "stream": "stderr",
       "text": [
        ".."
       ]
      },
      {
       "output_type": "stream",
       "stream": "stderr",
       "text": [
        ".."
       ]
      },
      {
       "output_type": "stream",
       "stream": "stderr",
       "text": [
        ".."
       ]
      },
      {
       "output_type": "stream",
       "stream": "stderr",
       "text": [
        ".."
       ]
      },
      {
       "output_type": "stream",
       "stream": "stderr",
       "text": [
        ".."
       ]
      },
      {
       "output_type": "stream",
       "stream": "stderr",
       "text": [
        ".."
       ]
      },
      {
       "output_type": "stream",
       "stream": "stderr",
       "text": [
        ".."
       ]
      },
      {
       "output_type": "stream",
       "stream": "stderr",
       "text": [
        ".."
       ]
      },
      {
       "output_type": "stream",
       "stream": "stderr",
       "text": [
        ".."
       ]
      },
      {
       "output_type": "stream",
       "stream": "stderr",
       "text": [
        ".."
       ]
      },
      {
       "output_type": "stream",
       "stream": "stderr",
       "text": [
        ".."
       ]
      },
      {
       "output_type": "stream",
       "stream": "stderr",
       "text": [
        ".."
       ]
      },
      {
       "output_type": "stream",
       "stream": "stderr",
       "text": [
        ".."
       ]
      },
      {
       "output_type": "stream",
       "stream": "stderr",
       "text": [
        ".."
       ]
      },
      {
       "output_type": "stream",
       "stream": "stderr",
       "text": [
        ".."
       ]
      },
      {
       "output_type": "stream",
       "stream": "stderr",
       "text": [
        ".."
       ]
      },
      {
       "output_type": "stream",
       "stream": "stderr",
       "text": [
        ".."
       ]
      },
      {
       "output_type": "stream",
       "stream": "stderr",
       "text": [
        ".."
       ]
      },
      {
       "output_type": "stream",
       "stream": "stderr",
       "text": [
        ".."
       ]
      },
      {
       "output_type": "stream",
       "stream": "stderr",
       "text": [
        ".."
       ]
      },
      {
       "output_type": "stream",
       "stream": "stderr",
       "text": [
        ".."
       ]
      },
      {
       "output_type": "stream",
       "stream": "stderr",
       "text": [
        ".."
       ]
      },
      {
       "output_type": "stream",
       "stream": "stderr",
       "text": [
        ".."
       ]
      },
      {
       "output_type": "stream",
       "stream": "stderr",
       "text": [
        ".."
       ]
      },
      {
       "output_type": "stream",
       "stream": "stderr",
       "text": [
        ".."
       ]
      },
      {
       "output_type": "stream",
       "stream": "stderr",
       "text": [
        ".."
       ]
      },
      {
       "output_type": "stream",
       "stream": "stderr",
       "text": [
        ".."
       ]
      },
      {
       "output_type": "stream",
       "stream": "stderr",
       "text": [
        ".."
       ]
      },
      {
       "output_type": "stream",
       "stream": "stderr",
       "text": [
        ".."
       ]
      },
      {
       "output_type": "stream",
       "stream": "stderr",
       "text": [
        ".."
       ]
      },
      {
       "output_type": "stream",
       "stream": "stderr",
       "text": [
        ".."
       ]
      },
      {
       "output_type": "stream",
       "stream": "stderr",
       "text": [
        ".."
       ]
      },
      {
       "output_type": "stream",
       "stream": "stderr",
       "text": [
        ".."
       ]
      },
      {
       "output_type": "stream",
       "stream": "stderr",
       "text": [
        ".."
       ]
      },
      {
       "output_type": "stream",
       "stream": "stderr",
       "text": [
        ".."
       ]
      },
      {
       "output_type": "stream",
       "stream": "stderr",
       "text": [
        ".."
       ]
      },
      {
       "output_type": "stream",
       "stream": "stderr",
       "text": [
        ".."
       ]
      },
      {
       "output_type": "stream",
       "stream": "stderr",
       "text": [
        ".."
       ]
      },
      {
       "output_type": "stream",
       "stream": "stderr",
       "text": [
        ".."
       ]
      },
      {
       "output_type": "stream",
       "stream": "stderr",
       "text": [
        ".."
       ]
      },
      {
       "output_type": "stream",
       "stream": "stderr",
       "text": [
        ".."
       ]
      },
      {
       "output_type": "stream",
       "stream": "stderr",
       "text": [
        ".."
       ]
      },
      {
       "output_type": "stream",
       "stream": "stderr",
       "text": [
        ".."
       ]
      },
      {
       "output_type": "stream",
       "stream": "stderr",
       "text": [
        ".."
       ]
      },
      {
       "output_type": "stream",
       "stream": "stderr",
       "text": [
        ".."
       ]
      },
      {
       "output_type": "stream",
       "stream": "stderr",
       "text": [
        ".."
       ]
      },
      {
       "output_type": "stream",
       "stream": "stderr",
       "text": [
        "."
       ]
      }
     ],
     "prompt_number": 122
    },
    {
     "cell_type": "code",
     "collapsed": false,
     "input": [
      "# Compute alignments\n",
      "all_alignments = []\n",
      "count = 0\n",
      "for coeff in np.arange(1, 8, 1.0):\n",
      "    for coeff_word_diff in np.arange(0.3, 1.5, 0.2):\n",
      "        print count, coeff, coeff_word_diff\n",
      "        sys.stderr.write(\"\\nStep %f\" % coeff_word_diff)\n",
      "        word_penalties = np.exp(-coeff_word_diff*np.abs(np.repeat(np.expand_dims(np.arange(500)*1.0, axis=0), 500, axis=0) - np.repeat(np.expand_dims(np.arange(500)*1.0, axis=0), 500, axis=0).transpose()))\n",
      "        alignments = []\n",
      "        for i, (f, e) in enumerate(bitext):\n",
      "            len_e = len(e)\n",
      "            len_f = len(f)\n",
      "            penalties = np.abs(np.repeat(np.expand_dims(np.arange(len_f)*1.0/len_f, axis=0), len_e, axis=0) - np.repeat(np.expand_dims(np.arange(len_e)*1.0/len_e, axis=0), len_f, axis=0).transpose())\n",
      "            a = np.zeros((len_e, len_f))\n",
      "            for j in xrange(len_e):\n",
      "                for k in xrange(len_f):\n",
      "                    a[j, k] = probs[f[k]][e[j]] * word_penalties[len(f_index_to_word[f[k]]), len(e_index_to_word[e[j]])]\n",
      "            alignments.append(np.argmax(a*np.exp(-coeff*penalties), axis=1))\n",
      "        all_alignments.append(alignments)\n",
      "        count += 1"
     ],
     "language": "python",
     "metadata": {},
     "outputs": [
      {
       "output_type": "stream",
       "stream": "stdout",
       "text": [
        "0 1.0 0.3\n",
        "1"
       ]
      },
      {
       "output_type": "stream",
       "stream": "stderr",
       "text": [
        "\n",
        "Step 0.300000\n",
        "Step 0.500000"
       ]
      },
      {
       "output_type": "stream",
       "stream": "stdout",
       "text": [
        " 1.0 0.5\n",
        "2"
       ]
      },
      {
       "output_type": "stream",
       "stream": "stdout",
       "text": [
        " 1.0 0.7\n",
        "3"
       ]
      },
      {
       "output_type": "stream",
       "stream": "stderr",
       "text": [
        "\n",
        "Step 0.700000\n",
        "Step 0.900000"
       ]
      },
      {
       "output_type": "stream",
       "stream": "stdout",
       "text": [
        " 1.0 0.9\n",
        "4"
       ]
      },
      {
       "output_type": "stream",
       "stream": "stdout",
       "text": [
        " 1.0 1.1\n",
        "5"
       ]
      },
      {
       "output_type": "stream",
       "stream": "stderr",
       "text": [
        "\n",
        "Step 1.100000\n",
        "Step 1.300000"
       ]
      },
      {
       "output_type": "stream",
       "stream": "stdout",
       "text": [
        " 1.0 1.3\n",
        "6"
       ]
      },
      {
       "output_type": "stream",
       "stream": "stdout",
       "text": [
        " 2.0 0.3\n",
        "7"
       ]
      },
      {
       "output_type": "stream",
       "stream": "stderr",
       "text": [
        "\n",
        "Step 0.300000\n",
        "Step 0.500000"
       ]
      },
      {
       "output_type": "stream",
       "stream": "stdout",
       "text": [
        " 2.0 0.5\n",
        "8"
       ]
      },
      {
       "output_type": "stream",
       "stream": "stdout",
       "text": [
        " 2.0 0.7\n",
        "9"
       ]
      },
      {
       "output_type": "stream",
       "stream": "stderr",
       "text": [
        "\n",
        "Step 0.700000\n",
        "Step 0.900000"
       ]
      },
      {
       "output_type": "stream",
       "stream": "stdout",
       "text": [
        " 2.0 0.9\n",
        "10"
       ]
      },
      {
       "output_type": "stream",
       "stream": "stdout",
       "text": [
        " 2.0 1.1\n",
        "11"
       ]
      },
      {
       "output_type": "stream",
       "stream": "stderr",
       "text": [
        "\n",
        "Step 1.100000\n",
        "Step 1.300000"
       ]
      },
      {
       "output_type": "stream",
       "stream": "stdout",
       "text": [
        " 2.0 1.3\n",
        "12"
       ]
      },
      {
       "output_type": "stream",
       "stream": "stdout",
       "text": [
        " 3.0 0.3\n",
        "13"
       ]
      },
      {
       "output_type": "stream",
       "stream": "stderr",
       "text": [
        "\n",
        "Step 0.300000\n",
        "Step 0.500000"
       ]
      },
      {
       "output_type": "stream",
       "stream": "stdout",
       "text": [
        " 3.0 0.5\n",
        "14"
       ]
      },
      {
       "output_type": "stream",
       "stream": "stdout",
       "text": [
        " 3.0 0.7\n",
        "15"
       ]
      },
      {
       "output_type": "stream",
       "stream": "stderr",
       "text": [
        "\n",
        "Step 0.700000\n",
        "Step 0.900000"
       ]
      },
      {
       "output_type": "stream",
       "stream": "stdout",
       "text": [
        " 3.0 0.9\n",
        "16"
       ]
      },
      {
       "output_type": "stream",
       "stream": "stdout",
       "text": [
        " 3.0 1.1\n",
        "17"
       ]
      },
      {
       "output_type": "stream",
       "stream": "stderr",
       "text": [
        "\n",
        "Step 1.100000\n",
        "Step 1.300000"
       ]
      },
      {
       "output_type": "stream",
       "stream": "stdout",
       "text": [
        " 3.0 1.3\n",
        "18"
       ]
      },
      {
       "output_type": "stream",
       "stream": "stdout",
       "text": [
        " 4.0 0.3\n",
        "19"
       ]
      },
      {
       "output_type": "stream",
       "stream": "stderr",
       "text": [
        "\n",
        "Step 0.300000\n",
        "Step 0.500000"
       ]
      },
      {
       "output_type": "stream",
       "stream": "stdout",
       "text": [
        " 4.0 0.5\n",
        "20"
       ]
      },
      {
       "output_type": "stream",
       "stream": "stdout",
       "text": [
        " 4.0 0.7\n",
        "21"
       ]
      },
      {
       "output_type": "stream",
       "stream": "stderr",
       "text": [
        "\n",
        "Step 0.700000\n",
        "Step 0.900000"
       ]
      },
      {
       "output_type": "stream",
       "stream": "stdout",
       "text": [
        " 4.0 0.9\n",
        "22"
       ]
      },
      {
       "output_type": "stream",
       "stream": "stdout",
       "text": [
        " 4.0 1.1\n",
        "23"
       ]
      },
      {
       "output_type": "stream",
       "stream": "stderr",
       "text": [
        "\n",
        "Step 1.100000\n",
        "Step 1.300000"
       ]
      },
      {
       "output_type": "stream",
       "stream": "stdout",
       "text": [
        " 4.0 1.3\n",
        "24"
       ]
      },
      {
       "output_type": "stream",
       "stream": "stdout",
       "text": [
        " 5.0 0.3\n",
        "25"
       ]
      },
      {
       "output_type": "stream",
       "stream": "stderr",
       "text": [
        "\n",
        "Step 0.300000\n",
        "Step 0.500000"
       ]
      },
      {
       "output_type": "stream",
       "stream": "stdout",
       "text": [
        " 5.0 0.5\n",
        "26"
       ]
      },
      {
       "output_type": "stream",
       "stream": "stdout",
       "text": [
        " 5.0 0.7\n",
        "27"
       ]
      },
      {
       "output_type": "stream",
       "stream": "stderr",
       "text": [
        "\n",
        "Step 0.700000\n",
        "Step 0.900000"
       ]
      },
      {
       "output_type": "stream",
       "stream": "stdout",
       "text": [
        " 5.0 0.9\n",
        "28"
       ]
      },
      {
       "output_type": "stream",
       "stream": "stdout",
       "text": [
        " 5.0 1.1\n",
        "29"
       ]
      },
      {
       "output_type": "stream",
       "stream": "stderr",
       "text": [
        "\n",
        "Step 1.100000\n",
        "Step 1.300000"
       ]
      },
      {
       "output_type": "stream",
       "stream": "stdout",
       "text": [
        " 5.0 1.3\n",
        "30"
       ]
      },
      {
       "output_type": "stream",
       "stream": "stdout",
       "text": [
        " 6.0 0.3\n",
        "31"
       ]
      },
      {
       "output_type": "stream",
       "stream": "stderr",
       "text": [
        "\n",
        "Step 0.300000\n",
        "Step 0.500000"
       ]
      },
      {
       "output_type": "stream",
       "stream": "stdout",
       "text": [
        " 6.0 0.5\n",
        "32"
       ]
      },
      {
       "output_type": "stream",
       "stream": "stdout",
       "text": [
        " 6.0 0.7\n",
        "33"
       ]
      },
      {
       "output_type": "stream",
       "stream": "stderr",
       "text": [
        "\n",
        "Step 0.700000\n",
        "Step 0.900000"
       ]
      },
      {
       "output_type": "stream",
       "stream": "stdout",
       "text": [
        " 6.0 0.9\n",
        "34"
       ]
      },
      {
       "output_type": "stream",
       "stream": "stdout",
       "text": [
        " 6.0 1.1\n",
        "35"
       ]
      },
      {
       "output_type": "stream",
       "stream": "stderr",
       "text": [
        "\n",
        "Step 1.100000\n",
        "Step 1.300000"
       ]
      },
      {
       "output_type": "stream",
       "stream": "stdout",
       "text": [
        " 6.0 1.3\n",
        "36"
       ]
      },
      {
       "output_type": "stream",
       "stream": "stdout",
       "text": [
        " 7.0 0.3\n",
        "37"
       ]
      },
      {
       "output_type": "stream",
       "stream": "stderr",
       "text": [
        "\n",
        "Step 0.300000\n",
        "Step 0.500000"
       ]
      },
      {
       "output_type": "stream",
       "stream": "stdout",
       "text": [
        " 7.0 0.5\n",
        "38"
       ]
      },
      {
       "output_type": "stream",
       "stream": "stdout",
       "text": [
        " 7.0 0.7\n",
        "39"
       ]
      },
      {
       "output_type": "stream",
       "stream": "stderr",
       "text": [
        "\n",
        "Step 0.700000\n",
        "Step 0.900000"
       ]
      },
      {
       "output_type": "stream",
       "stream": "stdout",
       "text": [
        " 7.0 0.9\n",
        "40"
       ]
      },
      {
       "output_type": "stream",
       "stream": "stdout",
       "text": [
        " 7.0 1.1\n",
        "41"
       ]
      },
      {
       "output_type": "stream",
       "stream": "stderr",
       "text": [
        "\n",
        "Step 1.100000\n",
        "Step 1.300000"
       ]
      },
      {
       "output_type": "stream",
       "stream": "stdout",
       "text": [
        " 7.0 1.3\n"
       ]
      }
     ],
     "prompt_number": 222
    },
    {
     "cell_type": "code",
     "collapsed": false,
     "input": [
      "for c, alignments in enumerate(all_alignments):\n",
      "    f = open('output_%i.txt' % c, 'w')\n",
      "    for a in alignments:\n",
      "      for i, a_i in enumerate(a):\n",
      "        f.write(\"%i-%i \" % (a_i, i))\n",
      "      f.write(\"\\n\")\n",
      "    f.close()"
     ],
     "language": "python",
     "metadata": {},
     "outputs": [],
     "prompt_number": 224
    }
   ],
   "metadata": {}
  }
 ]
}